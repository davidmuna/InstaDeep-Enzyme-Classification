{
  "nbformat": 4,
  "nbformat_minor": 0,
  "metadata": {
    "colab": {
      "name": "InstaDeep Enzyme Classification Submission-DMuna",
      "provenance": [],
      "collapsed_sections": [],
      "toc_visible": true,
      "machine_shape": "hm",
      "include_colab_link": true
    },
    "kernelspec": {
      "name": "python3",
      "display_name": "Python 3"
    }
  },
  "cells": [
    {
      "cell_type": "markdown",
      "metadata": {
        "id": "view-in-github",
        "colab_type": "text"
      },
      "source": [
        "<a href=\"https://colab.research.google.com/github/davidmuna/InstaDeep-Enzyme-Classification/blob/main/InstaDeep_Enzyme_Classification_Submission_DMuna.ipynb\" target=\"_parent\"><img src=\"https://colab.research.google.com/assets/colab-badge.svg\" alt=\"Open In Colab\"/></a>"
      ]
    },
    {
      "cell_type": "markdown",
      "metadata": {
        "id": "xMxtPsqcTsSH"
      },
      "source": [
        "InstaDeep Enzyme Classification Challenge"
      ]
    },
    {
      "cell_type": "markdown",
      "metadata": {
        "id": "kLG2VTrnTvYL"
      },
      "source": [
        "## 1. Defining the Question"
      ]
    },
    {
      "cell_type": "markdown",
      "metadata": {
        "id": "XecOwPNorl2W"
      },
      "source": [
        "### a) Specifying the Data Analytic Question"
      ]
    },
    {
      "cell_type": "markdown",
      "metadata": {
        "id": "TKu3PiiOjpDG"
      },
      "source": [
        "Can you predict the class of an enzyme using only its amino acid sequence?"
      ]
    },
    {
      "cell_type": "markdown",
      "metadata": {
        "id": "J4wfHZwQrs-t"
      },
      "source": [
        "### b) Defining the Metric for Success\n",
        "\n",
        "My project will be deemed succesful when the following are obtained:\n",
        "1.  A Precision, Recall, Accuracy and F1 score of >90% in each.  \n"
      ]
    },
    {
      "cell_type": "markdown",
      "metadata": {
        "id": "a9BPYqunry97"
      },
      "source": [
        "### c) Understanding the Context \n"
      ]
    },
    {
      "cell_type": "markdown",
      "metadata": {
        "id": "1dwMdbo2Bmd8"
      },
      "source": [
        "In the UmojaHack Tunisia hackathon we invited participants to predict the functional class of enzymes called protein kinases based on their amino acid sequences. For this challenge we’re taking it one step further. Given a library of labelled sequences from some well-known organisms, your task is to create a model that can label sequences from new organisms. Each sequence could represent any kind of enzyme - not just kinases.\r\n",
        "\r\n",
        "All enzymes are made of one or more chains of amino acids, which determine their structure, behaviour, and interactions with other enzymes and molecules. That means it should be possible to predict the protein’s function and behaviour given just the amino acid sequence.\r\n",
        "\r\n",
        "A model able to perform this task would have many applications. In addition to enzymes from known organisms (which we have from studying their proteomes), there are vast numbers of metagenomic sequences - this is proteomic sequence data from environmental samples. Being able to quickly annotate them with function using this model (i.e. going beyond simple sequence similarity) would be indispensable. Models developed in the course of this challenge may contribute to furthering the understanding of the world around us."
      ]
    },
    {
      "cell_type": "markdown",
      "metadata": {
        "id": "7KMRBJ7zr9HD"
      },
      "source": [
        "### d) Recording the Experimental Design"
      ]
    },
    {
      "cell_type": "markdown",
      "metadata": {
        "id": "-eSdPR4uDQ6t"
      },
      "source": [
        "1.   Reading & Checking the data\n",
        "2.   Tidying the data\n",
        "3.   Exploratory Data Analysis\n",
        "4.   Sampling & Class Balancing\n",
        "5.   Modelling & Performance Tuning\n",
        "6.   Evaluation\n",
        "7.   Recommendations"
      ]
    },
    {
      "cell_type": "markdown",
      "metadata": {
        "id": "zSGyg6kWsBUl"
      },
      "source": [
        "### e) Data Relevance\n",
        "\n"
      ]
    },
    {
      "cell_type": "markdown",
      "metadata": {
        "id": "iUNbvIvnT7ep"
      },
      "source": [
        "## 2. Reading the Data"
      ]
    },
    {
      "cell_type": "code",
      "metadata": {
        "id": "XJn2KjW-WMlG"
      },
      "source": [
        "# Importing the necessary libraries \n",
        "import pandas as pd\n",
        "import numpy as np\n",
        "import warnings\n",
        "warnings.filterwarnings('ignore')"
      ],
      "execution_count": null,
      "outputs": []
    },
    {
      "cell_type": "code",
      "metadata": {
        "colab": {
          "base_uri": "https://localhost:8080/"
        },
        "id": "4sUUTie7Jn6R",
        "outputId": "32f049c4-a435-4d35-e218-2d6c10964c10"
      },
      "source": [
        "# Load the Drive helper and mount\n",
        "from google.colab import drive\n",
        "# This will prompt for authorization.\n",
        "drive.mount('/content/drive')\n",
        "!ls \"/content/drive/MyDrive/InstaDeep Enzyme Classification Challenge/\""
      ],
      "execution_count": null,
      "outputs": [
        {
          "output_type": "stream",
          "text": [
            "Mounted at /content/drive\n",
            "SampleSubmission.csv  SampleSubmission.gsheet  Test.csv  Train.csv\n"
          ],
          "name": "stdout"
        }
      ]
    },
    {
      "cell_type": "code",
      "metadata": {
        "id": "MxHzUL4PLIMk"
      },
      "source": [
        "# Loading our data\n",
        "train = pd.read_csv(\"/content/drive/My Drive/InstaDeep Enzyme Classification Challenge/Train.csv\")\n",
        "test = pd.read_csv(\"/content/drive/My Drive/InstaDeep Enzyme Classification Challenge/Test.csv\")"
      ],
      "execution_count": null,
      "outputs": []
    },
    {
      "cell_type": "markdown",
      "metadata": {
        "id": "OI3P3YnHUEBk"
      },
      "source": [
        "## 3. Data Exploration"
      ]
    },
    {
      "cell_type": "code",
      "metadata": {
        "colab": {
          "base_uri": "https://localhost:8080/"
        },
        "id": "YjSVNwgptHxY",
        "outputId": "66ec566d-6e9b-4e1a-d8e7-fe1552ad22ad"
      },
      "source": [
        "# Determining the no. of records in our dataset\n",
        "print(train.shape)\n",
        "print(test.shape)"
      ],
      "execution_count": null,
      "outputs": [
        {
          "output_type": "stream",
          "text": [
            "(858777, 4)\n",
            "(253146, 3)\n"
          ],
          "name": "stdout"
        }
      ]
    },
    {
      "cell_type": "code",
      "metadata": {
        "colab": {
          "base_uri": "https://localhost:8080/",
          "height": 142
        },
        "id": "xHhTw5eKWr0n",
        "outputId": "e35b8ab9-6849-46ae-bfe1-fae09240e5a4"
      },
      "source": [
        "# Previewing the top 3 records of our train dataset\n",
        "train.head(3)"
      ],
      "execution_count": null,
      "outputs": [
        {
          "output_type": "execute_result",
          "data": {
            "text/html": [
              "<div>\n",
              "<style scoped>\n",
              "    .dataframe tbody tr th:only-of-type {\n",
              "        vertical-align: middle;\n",
              "    }\n",
              "\n",
              "    .dataframe tbody tr th {\n",
              "        vertical-align: top;\n",
              "    }\n",
              "\n",
              "    .dataframe thead th {\n",
              "        text-align: right;\n",
              "    }\n",
              "</style>\n",
              "<table border=\"1\" class=\"dataframe\">\n",
              "  <thead>\n",
              "    <tr style=\"text-align: right;\">\n",
              "      <th></th>\n",
              "      <th>SEQUENCE_ID</th>\n",
              "      <th>SEQUENCE</th>\n",
              "      <th>CREATURE</th>\n",
              "      <th>LABEL</th>\n",
              "    </tr>\n",
              "  </thead>\n",
              "  <tbody>\n",
              "    <tr>\n",
              "      <th>0</th>\n",
              "      <td>00011UBJ</td>\n",
              "      <td>MPWQELSITVPHEYVEPISYLFGRYGKGVSTELAGNGQVLLRTYLT...</td>\n",
              "      <td>creature9</td>\n",
              "      <td>class11</td>\n",
              "    </tr>\n",
              "    <tr>\n",
              "      <th>1</th>\n",
              "      <td>0001HZ3P</td>\n",
              "      <td>MGKLVIGSRGSELALWQANHIKERLKKECLIESEIQIVKTKGDKIL...</td>\n",
              "      <td>creature3</td>\n",
              "      <td>class13</td>\n",
              "    </tr>\n",
              "    <tr>\n",
              "      <th>2</th>\n",
              "      <td>0003NJDO</td>\n",
              "      <td>MFIVAVLMLAFLIFVHELGHFTIARICGVKVEVFSIGFGKKLCFFK...</td>\n",
              "      <td>creature3</td>\n",
              "      <td>class16</td>\n",
              "    </tr>\n",
              "  </tbody>\n",
              "</table>\n",
              "</div>"
            ],
            "text/plain": [
              "  SEQUENCE_ID  ...    LABEL\n",
              "0    00011UBJ  ...  class11\n",
              "1    0001HZ3P  ...  class13\n",
              "2    0003NJDO  ...  class16\n",
              "\n",
              "[3 rows x 4 columns]"
            ]
          },
          "metadata": {
            "tags": []
          },
          "execution_count": 5
        }
      ]
    },
    {
      "cell_type": "code",
      "metadata": {
        "id": "e9AzGcZFrIIr",
        "colab": {
          "base_uri": "https://localhost:8080/",
          "height": 142
        },
        "outputId": "d266e00c-4cb5-44e4-f6b5-cf2e50da06cd"
      },
      "source": [
        "# Previewing the bottom 3 records of our train dataset\n",
        "train.tail(3)"
      ],
      "execution_count": null,
      "outputs": [
        {
          "output_type": "execute_result",
          "data": {
            "text/html": [
              "<div>\n",
              "<style scoped>\n",
              "    .dataframe tbody tr th:only-of-type {\n",
              "        vertical-align: middle;\n",
              "    }\n",
              "\n",
              "    .dataframe tbody tr th {\n",
              "        vertical-align: top;\n",
              "    }\n",
              "\n",
              "    .dataframe thead th {\n",
              "        text-align: right;\n",
              "    }\n",
              "</style>\n",
              "<table border=\"1\" class=\"dataframe\">\n",
              "  <thead>\n",
              "    <tr style=\"text-align: right;\">\n",
              "      <th></th>\n",
              "      <th>SEQUENCE_ID</th>\n",
              "      <th>SEQUENCE</th>\n",
              "      <th>CREATURE</th>\n",
              "      <th>LABEL</th>\n",
              "    </tr>\n",
              "  </thead>\n",
              "  <tbody>\n",
              "    <tr>\n",
              "      <th>858774</th>\n",
              "      <td>ZZZTY2QU</td>\n",
              "      <td>MEQEICVIGFSGGQDSTTLAVWAKKRFKKVCLVGFDYAQKHSVELE...</td>\n",
              "      <td>creature3</td>\n",
              "      <td>class8</td>\n",
              "    </tr>\n",
              "    <tr>\n",
              "      <th>858775</th>\n",
              "      <td>ZZZVSLL1</td>\n",
              "      <td>DRQYTAKADSVARRSCQTALYHIAEALVRWMAPIMSFTADEIWGYL...</td>\n",
              "      <td>creature2</td>\n",
              "      <td>class5</td>\n",
              "    </tr>\n",
              "    <tr>\n",
              "      <th>858776</th>\n",
              "      <td>ZZZYBLCE</td>\n",
              "      <td>MLIRGGTVVTADGERKADVLIRDEKVAEVREGIAGDADVIDATGLL...</td>\n",
              "      <td>creature9</td>\n",
              "      <td>class4</td>\n",
              "    </tr>\n",
              "  </tbody>\n",
              "</table>\n",
              "</div>"
            ],
            "text/plain": [
              "       SEQUENCE_ID  ...   LABEL\n",
              "858774    ZZZTY2QU  ...  class8\n",
              "858775    ZZZVSLL1  ...  class5\n",
              "858776    ZZZYBLCE  ...  class4\n",
              "\n",
              "[3 rows x 4 columns]"
            ]
          },
          "metadata": {
            "tags": []
          },
          "execution_count": 6
        }
      ]
    },
    {
      "cell_type": "code",
      "metadata": {
        "colab": {
          "base_uri": "https://localhost:8080/"
        },
        "id": "n8-dW4sQWzbc",
        "outputId": "445d1bcf-0a3b-4095-9365-df6957072027"
      },
      "source": [
        "# Checking column datatypes\n",
        "print(\"train ########################\\n\",train.dtypes)\n",
        "print(\"test ########################\\n\",test.dtypes)"
      ],
      "execution_count": null,
      "outputs": [
        {
          "output_type": "stream",
          "text": [
            "train ########################\n",
            " SEQUENCE_ID    object\n",
            "SEQUENCE       object\n",
            "CREATURE       object\n",
            "LABEL          object\n",
            "dtype: object\n",
            "test ########################\n",
            " SEQUENCE_ID    object\n",
            "SEQUENCE       object\n",
            "CREATURE       object\n",
            "dtype: object\n"
          ],
          "name": "stdout"
        }
      ]
    },
    {
      "cell_type": "code",
      "metadata": {
        "id": "gR8jSVruiHLr",
        "colab": {
          "base_uri": "https://localhost:8080/"
        },
        "outputId": "6f8a4e13-d5ba-4520-91ab-7441fe24f7cc"
      },
      "source": [
        "# Datatypes in test data\n",
        "test.dtypes.value_counts()"
      ],
      "execution_count": null,
      "outputs": [
        {
          "output_type": "execute_result",
          "data": {
            "text/plain": [
              "object    3\n",
              "dtype: int64"
            ]
          },
          "metadata": {
            "tags": []
          },
          "execution_count": 8
        }
      ]
    },
    {
      "cell_type": "markdown",
      "metadata": {
        "id": "rV3vZ7I46MfO"
      },
      "source": [
        "#### Observation\n",
        "\n",
        "All data types are objects.\n"
      ]
    },
    {
      "cell_type": "markdown",
      "metadata": {
        "id": "FlBMxEDBUc9B"
      },
      "source": [
        "## 5. Data Preparation & Cleaning"
      ]
    },
    {
      "cell_type": "code",
      "metadata": {
        "id": "pXA9jh6aqLaf"
      },
      "source": [
        "# Standardising column names to lower case and removing trailing spaces if any\r\n",
        "train.columns = train.columns.str.strip().str.lower().str.replace(' ', '')\r\n",
        "test.columns = test.columns.str.strip().str.lower().str.replace(' ', '')"
      ],
      "execution_count": null,
      "outputs": []
    },
    {
      "cell_type": "code",
      "metadata": {
        "colab": {
          "base_uri": "https://localhost:8080/"
        },
        "id": "kmoQe9H8Jh29",
        "outputId": "e94bbaaa-07e5-47d2-cf6c-898c59077d0b"
      },
      "source": [
        "# Checking for Missing Records\n",
        "train.isna().sum()"
      ],
      "execution_count": null,
      "outputs": [
        {
          "output_type": "execute_result",
          "data": {
            "text/plain": [
              "sequence_id    0\n",
              "sequence       0\n",
              "creature       0\n",
              "label          0\n",
              "dtype: int64"
            ]
          },
          "metadata": {
            "tags": []
          },
          "execution_count": 10
        }
      ]
    },
    {
      "cell_type": "code",
      "metadata": {
        "colab": {
          "base_uri": "https://localhost:8080/"
        },
        "id": "AbT5hJTR0UUn",
        "outputId": "576fa2ac-ca45-4985-ccc6-d6784364110a"
      },
      "source": [
        "# Checking for duplicates in sequence\n",
        "train['sequence'].duplicated().sum()"
      ],
      "execution_count": null,
      "outputs": [
        {
          "output_type": "execute_result",
          "data": {
            "text/plain": [
              "42077"
            ]
          },
          "metadata": {
            "tags": []
          },
          "execution_count": 11
        }
      ]
    },
    {
      "cell_type": "code",
      "metadata": {
        "colab": {
          "base_uri": "https://localhost:8080/"
        },
        "id": "gUamZGrpqXAj",
        "outputId": "5985ce2e-94a9-4046-d0ab-6728feaa1492"
      },
      "source": [
        "# Checking for duplicates sequence_id\r\n",
        "train['sequence_id'].duplicated().sum()"
      ],
      "execution_count": null,
      "outputs": [
        {
          "output_type": "execute_result",
          "data": {
            "text/plain": [
              "0"
            ]
          },
          "metadata": {
            "tags": []
          },
          "execution_count": 12
        }
      ]
    },
    {
      "cell_type": "code",
      "metadata": {
        "colab": {
          "base_uri": "https://localhost:8080/"
        },
        "id": "IWMh-lPyVLoc",
        "outputId": "ad1489a5-dc84-4ee8-8e74-cc68e9e69cd0"
      },
      "source": [
        "# Checking for Anomalies by identifying unique values in categorical columns\n",
        "cat_cols = train[['sequence_id', 'sequence', 'creature', 'label']]\n",
        "\n",
        "for column in cat_cols.columns:\n",
        "  print(column)\n",
        "  print(cat_cols[column].unique())\n",
        "  print('\\n')"
      ],
      "execution_count": null,
      "outputs": [
        {
          "output_type": "stream",
          "text": [
            "sequence_id\n",
            "['00011UBJ' '0001HZ3P' '0003NJDO' ... 'ZZZTY2QU' 'ZZZVSLL1' 'ZZZYBLCE']\n",
            "\n",
            "\n",
            "sequence\n",
            "['MPWQELSITVPHEYVEPISYLFGRYGKGVSTELAGNGQVLLRTYLTTGSRQRMARIDVGVRLVGAIESIGDLIVRELPDDEDWMNSWKSHFKILRVGKRLVIKPTWLELDETIKLDDIVIELDPGIAFGTGYHPTTDTCMQAMEQHITPGMAVLDLGTGSGILAITAMKLGAGKVTALDIDSQAVSAARRNFKRTGISKQIRLGQGSVPHPTAPAAEFDLAVANISARGVVDRCPFILTALKPGALFIASGLLATQKPEVANAVEPLGFSLVSEWPQEEWVTLLYRAPDSPIVASE'\n",
            " 'MGKLVIGSRGSELALWQANHIKERLKKECLIESEIQIVKTKGDKILDTPLNKIGGKGLFTKELEELLLKGEIDLAVHSLKDVPVVFEKGLDLACITKRADVRDTFLSVKFPDLMSLPEGAKVGTTSLRRSMQLKLKRQDLDTESLRGNVQTRLKKLECGEFDAIILAEAGLCRLNIQGAKYRKAFSVEEMIPSMGQGALGVEMLKNHKHFATLQKLNDEESAFCCRLEREFIKGLNGGCQIPIGVHASLMGDRVKIQAVLGLPNGKEVITKEKQGDKTKAFDLIQELLEEFLQSGAKEILEKAQLF'\n",
            " 'MFIVAVLMLAFLIFVHELGHFTIARICGVKVEVFSIGFGKKLCFFKLFGTQFALSLIPLGGYVKLKGMDKEEDGTNETADDSYAQKSPFQKLWILFGGAFFNFLFAILVYFFLALSGEKVLLPIIGGLDKNALEAGLLKGDKILSINHEKIASFREIRSVVARARGELVLEIERNNQILEKRLTPKIVAVISESNDPNEMIRYKIIGIKPDMQKTGIVSYSLIQAFKQALSRFKEGVVLIVDSLRRLIMGSASVKELSGVIGIVGALSHANSLSMLLLFGAFLSINLGILNLLPIPALDGAQMLGVVFKNIFHITLPTPIQNALWLAGVGFLVFIMFLGLFNDITRLL'\n",
            " ...\n",
            " 'MEQEICVIGFSGGQDSTTLAVWAKKRFKKVCLVGFDYAQKHSVELECAQKIASLLQLPYEIIPLDFLENITRSALFKNSNDLMGHSHAQNKDLPNSFVPNRNAIFITLLHSYAQKIGANNIALGVSQADFSGYPDCKEDFIKSIEHALNLGSNTAIKILTPLMFLNKAQEFQMAKDLGVLDLVIKETHTCYQGERKILHAYGYGCDECPACQLRKKGYEEFQTKVLFQ'\n",
            " 'DRQYTAKADSVARRSCQTALYHIAEALVRWMAPIMSFTADEIWGYLPGEREKYVFTGEWYDGLFGLEENEEFNDAFWDDVRYIKDQVNKELENQKANGIKSNLEAKVTLKYADDANGTIKKLKLLGEEVRFIFITSQFVISEQAGGIDDENIQYNAGNTTVQAVVTRAEGDKCPRCWHYTTDVGKVAEHADICGRCVSNIAGNGEQRKFA'\n",
            " 'MLIRGGTVVTADGERKADVLIRDEKVAEVREGIAGDADVIDATGLLVLPGVVDPHTHLLLDTGTARTADDFESGSLSAAAGGVTTFLDFAPQLAGQRFTQALQSRRELIDGRSYIDYAVHLNIAHLPDGWEHDLAALVEAGVTSAKIYTTYRGTIFYADDWTWYRLMERSREAGFLVQVHAENDAIVEGMAQQLVAEGKRSLKYHAVARPAVAEAEAVGRGLLFSRATGSPVYFVHLSTPLAVDLISEARRGGVQAIAETCPHYLVLDDSRYAQPDAARYVMTPPLRDLKSQGELWDRLSRGAIQSIGSDHCGFSLSQRAGIDDFREISPGIPGVETSLLLMHSFGVVPQRLSRSDLVRLLCTNPAKIFGLWPQKGDLQAGSDADLVLFDPRPTRVLSAAELHSRADFSPYDGLTVTGKVLSTICRGRVIYRDGAIVSRRDFGRFVKCRVFDPEMVPL']\n",
            "\n",
            "\n",
            "creature\n",
            "['creature9' 'creature3' 'creature8' 'creature4' 'creature0' 'creature2'\n",
            " 'creature5' 'creature1']\n",
            "\n",
            "\n",
            "label\n",
            "['class11' 'class13' 'class16' 'class12' 'class19' 'class0' 'class8'\n",
            " 'class9' 'class3' 'class18' 'class2' 'class10' 'class6' 'class5' 'class7'\n",
            " 'class17' 'class15' 'class1' 'class4' 'class14']\n",
            "\n",
            "\n"
          ],
          "name": "stdout"
        }
      ]
    },
    {
      "cell_type": "markdown",
      "metadata": {
        "id": "aVFMhJzqtLfy"
      },
      "source": [
        "#### Observation\n",
        "*   The 42,077 duplicates in sequence remain since they have unique sequence_id.\n",
        "*   It appears there're no anomalies in our data as well.\n",
        "\n",
        "\n"
      ]
    },
    {
      "cell_type": "markdown",
      "metadata": {
        "id": "rF2ABPsHUtbZ"
      },
      "source": [
        "## 6. Exploratory Data Analysis"
      ]
    },
    {
      "cell_type": "code",
      "metadata": {
        "colab": {
          "base_uri": "https://localhost:8080/",
          "height": 312
        },
        "id": "YsuHYtRaxRFI",
        "outputId": "ee5e3c4e-205e-45ef-dcd4-bb1826e75f25"
      },
      "source": [
        "# Viewing the distribution of the 20 classes in Train using a countplot\r\n",
        "\r\n",
        "# Libraries\r\n",
        "import matplotlib.pyplot as plt\r\n",
        "import seaborn as sns \r\n",
        "\r\n",
        "# Setting the figure size and plotting\r\n",
        "plt.figure(figsize=(16,4))\r\n",
        "ax = sns.countplot(x=\"label\", data=train, palette=\"tab20\", order = train['label'].value_counts().index)\r\n",
        "plt.title(\"Distribution Classes in Train\")"
      ],
      "execution_count": null,
      "outputs": [
        {
          "output_type": "execute_result",
          "data": {
            "text/plain": [
              "Text(0.5, 1.0, 'Distribution Classes in Train')"
            ]
          },
          "metadata": {
            "tags": []
          },
          "execution_count": 14
        },
        {
          "output_type": "display_data",
          "data": {
            "image/png": "[encoded data removed]",
            "text/plain": [
              "<Figure size 1152x288 with 1 Axes>"
            ]
          },
          "metadata": {
            "tags": [],
            "needs_background": "light"
          }
        }
      ]
    },
    {
      "cell_type": "markdown",
      "metadata": {
        "id": "ff80Rwyd5IZP"
      },
      "source": [
        "#### Observation\n",
        "*   Our classes are imbalanced and have to be balanced before training. \n",
        "*   Class 19 and Class 0 have are the majorityt and minority classes respectively.\n",
        "\n",
        "\n"
      ]
    },
    {
      "cell_type": "code",
      "metadata": {
        "colab": {
          "base_uri": "https://localhost:8080/",
          "height": 258
        },
        "id": "pWUxhFzz5626",
        "outputId": "998e2d16-1a02-4244-d8cd-eec27ddf26e8"
      },
      "source": [
        "# Viewing sequence distribution of creatures in train\r\n",
        "# Setting the figure size and plotting\r\n",
        "plt.figure(figsize=(10,3))\r\n",
        "ax = sns.countplot(x=\"creature\", data=train, palette=\"tab20\", order = train['creature'].value_counts().index)\r\n",
        "plt.title(\"Sequence Distribution of Creatures in Train\")"
      ],
      "execution_count": null,
      "outputs": [
        {
          "output_type": "execute_result",
          "data": {
            "text/plain": [
              "Text(0.5, 1.0, 'Sequence Distribution of Creatures in Train')"
            ]
          },
          "metadata": {
            "tags": []
          },
          "execution_count": 15
        },
        {
          "output_type": "display_data",
          "data": {
            "image/png": "[encoded data removed]",
            "text/plain": [
              "<Figure size 720x216 with 1 Axes>"
            ]
          },
          "metadata": {
            "tags": [],
            "needs_background": "light"
          }
        }
      ]
    },
    {
      "cell_type": "code",
      "metadata": {
        "colab": {
          "base_uri": "https://localhost:8080/",
          "height": 258
        },
        "id": "I0W670bnA7iG",
        "outputId": "9bb06c9b-7c08-46f4-ceab-61d9aacc9951"
      },
      "source": [
        "# Viewing sequence distribution of creatures in test\r\n",
        "# Setting the figure size and plotting\r\n",
        "plt.figure(figsize=(10,3))\r\n",
        "ax = sns.countplot(x=\"creature\", data=test, palette=\"tab20\")\r\n",
        "plt.title(\"Sequence Distribution of Creatures in Test\")"
      ],
      "execution_count": null,
      "outputs": [
        {
          "output_type": "execute_result",
          "data": {
            "text/plain": [
              "Text(0.5, 1.0, 'Sequence Distribution of Creatures in Test')"
            ]
          },
          "metadata": {
            "tags": []
          },
          "execution_count": 16
        },
        {
          "output_type": "display_data",
          "data": {
            "image/png": "[encoded data removed]",
            "text/plain": [
              "<Figure size 720x216 with 1 Axes>"
            ]
          },
          "metadata": {
            "tags": [],
            "needs_background": "light"
          }
        }
      ]
    },
    {
      "cell_type": "markdown",
      "metadata": {
        "id": "rtj5uRP_022R"
      },
      "source": [
        "It is clear that the Test set contains sequences for creatures 7 and 6 which are not seen in the Train data. "
      ]
    },
    {
      "cell_type": "code",
      "metadata": {
        "colab": {
          "base_uri": "https://localhost:8080/"
        },
        "id": "L1R1yZLE7t0D",
        "outputId": "b84e766e-b435-477c-b138-2ed08e792e4b"
      },
      "source": [
        "# Finding the creature that appears most in class19\r\n",
        "creatures_majority = train[train['label']== \"class19\"].groupby('label')['creature'].value_counts().sort_values(ascending=False)\r\n",
        "creatures_majority\r\n",
        "\r\n",
        "# Returns creature4"
      ],
      "execution_count": null,
      "outputs": [
        {
          "output_type": "execute_result",
          "data": {
            "text/plain": [
              "label    creature \n",
              "class19  creature4    133851\n",
              "         creature8     24810\n",
              "         creature9     19887\n",
              "         creature3     18307\n",
              "         creature0     16339\n",
              "         creature1     14867\n",
              "         creature2     14227\n",
              "         creature5     13985\n",
              "Name: creature, dtype: int64"
            ]
          },
          "metadata": {
            "tags": []
          },
          "execution_count": 17
        }
      ]
    },
    {
      "cell_type": "code",
      "metadata": {
        "colab": {
          "base_uri": "https://localhost:8080/"
        },
        "id": "zekRn4cSER_9",
        "outputId": "897db076-272e-40ea-ade6-c979929b33ff"
      },
      "source": [
        "# Finding the creature that appears most in class0\r\n",
        "creatures_majority0 = train[train['label']== \"class0\"].groupby('label')['creature'].value_counts().sort_values(ascending=False)\r\n",
        "creatures_majority0\r\n",
        "\r\n",
        "# Returns creature8"
      ],
      "execution_count": null,
      "outputs": [
        {
          "output_type": "execute_result",
          "data": {
            "text/plain": [
              "label   creature \n",
              "class0  creature8    2493\n",
              "        creature9    1988\n",
              "        creature3    1593\n",
              "        creature1    1457\n",
              "        creature0    1275\n",
              "        creature2    1170\n",
              "        creature5    1133\n",
              "Name: creature, dtype: int64"
            ]
          },
          "metadata": {
            "tags": []
          },
          "execution_count": 18
        }
      ]
    },
    {
      "cell_type": "code",
      "metadata": {
        "colab": {
          "base_uri": "https://localhost:8080/"
        },
        "id": "M9dBSLELY_7u",
        "outputId": "90a2caec-2d89-402a-8856-95dba3bb6591"
      },
      "source": [
        "# Looking at statistics for sequence length in train data\n",
        "train['sequence'].map(lambda x: len(x)).describe()"
      ],
      "execution_count": null,
      "outputs": [
        {
          "output_type": "execute_result",
          "data": {
            "text/plain": [
              "count    858777.000000\n",
              "mean        407.550355\n",
              "std         211.880784\n",
              "min          16.000000\n",
              "25%         263.000000\n",
              "50%         381.000000\n",
              "75%         481.000000\n",
              "max        1234.000000\n",
              "Name: sequence, dtype: float64"
            ]
          },
          "metadata": {
            "tags": []
          },
          "execution_count": 19
        }
      ]
    },
    {
      "cell_type": "code",
      "metadata": {
        "colab": {
          "base_uri": "https://localhost:8080/"
        },
        "id": "fD_Fcfq-1bXK",
        "outputId": "afe11316-8511-4716-a101-9809923344cb"
      },
      "source": [
        "# Looking at statistics for sequence length in test data\r\n",
        "test['sequence'].map(lambda x: len(x)).describe()"
      ],
      "execution_count": null,
      "outputs": [
        {
          "output_type": "execute_result",
          "data": {
            "text/plain": [
              "count    253146.000000\n",
              "mean        379.370261\n",
              "std         214.976543\n",
              "min          19.000000\n",
              "25%         232.000000\n",
              "50%         339.000000\n",
              "75%         474.000000\n",
              "max        1234.000000\n",
              "Name: sequence, dtype: float64"
            ]
          },
          "metadata": {
            "tags": []
          },
          "execution_count": 20
        }
      ]
    },
    {
      "cell_type": "code",
      "metadata": {
        "id": "u6dnE1RPcpeL"
      },
      "source": [
        "# Getting length of sequence in train and test data.\r\n",
        "train['seq_char_count']= train['sequence'].apply(lambda x: len(x))\r\n",
        "test['seq_char_count']= test['sequence'].apply(lambda x: len(x))"
      ],
      "execution_count": null,
      "outputs": []
    },
    {
      "cell_type": "code",
      "metadata": {
        "id": "sNrbrZIxdBZC"
      },
      "source": [
        "# Creating a function for plotting a distribution plot of sequence character counts in train and test data\r\n",
        "\r\n",
        "def plot_seq_count(df, data_name):\r\n",
        "  sns.distplot(df['seq_char_count'].values)\r\n",
        "  plt.title(f'Sequence Character Count: {data_name}')\r\n",
        "  plt.grid(True)"
      ],
      "execution_count": null,
      "outputs": []
    },
    {
      "cell_type": "code",
      "metadata": {
        "colab": {
          "base_uri": "https://localhost:8080/",
          "height": 237
        },
        "id": "Oun3Ol6Gfp4H",
        "outputId": "d04a8cf5-42f9-486c-ed18-34e8ffed05fd"
      },
      "source": [
        "# Plotting distributions of train and test sequence character counts\r\n",
        "\r\n",
        "plt.subplot(1, 2, 1)\r\n",
        "plot_seq_count(train, 'Train')\r\n",
        "\r\n",
        "plt.subplot(1, 2, 2)\r\n",
        "plot_seq_count(test, 'Test')\r\n",
        "\r\n",
        "plt.subplots_adjust(right=3.0)\r\n",
        "plt.show()"
      ],
      "execution_count": null,
      "outputs": [
        {
          "output_type": "display_data",
          "data": {
            "image/png": "[encoded data removed]",
            "text/plain": [
              "<Figure size 432x288 with 2 Axes>"
            ]
          },
          "metadata": {
            "tags": [],
            "needs_background": "light"
          }
        }
      ]
    },
    {
      "cell_type": "markdown",
      "metadata": {
        "id": "nWPfqXFWghIp"
      },
      "source": [
        "Most sequences in Train and Test have character counts in the range of approximately 100-600 with a few going into the thousands."
      ]
    },
    {
      "cell_type": "markdown",
      "metadata": {
        "id": "NYeFg108Y4DO"
      },
      "source": [
        "## Sampling"
      ]
    },
    {
      "cell_type": "markdown",
      "metadata": {
        "id": "H2oHOa3wY6hj"
      },
      "source": [
        " Stratified sampling is the best method since our data had well over 800,000 records and this would take more time while performing our analysis. Sampling fraction chosen is 5% of the data so we can retain the exact proportions of classes from the main dataset, in the sample."
      ]
    },
    {
      "cell_type": "markdown",
      "metadata": {
        "id": "s1VgGdq766_k"
      },
      "source": [
        "### Stratified Sampling\r\n",
        "\r\n",
        "We perform stratified sampling for computational reasons since the train data is quite large. Stratified sampling is best suited since it retains same proportions of classes in the sample as was present in the original data."
      ]
    },
    {
      "cell_type": "code",
      "metadata": {
        "colab": {
          "base_uri": "https://localhost:8080/"
        },
        "id": "iLOJjqMIM6mT",
        "outputId": "6ea7012f-2fee-427b-ff1a-296fcaec9277"
      },
      "source": [
        "# Checking Value Counts for classes before stratified sampling\n",
        "train['label'].value_counts().sort_values(ascending=False)"
      ],
      "execution_count": null,
      "outputs": [
        {
          "output_type": "execute_result",
          "data": {
            "text/plain": [
              "class19    256273\n",
              "class11     62087\n",
              "class2      52784\n",
              "class6      46636\n",
              "class8      45052\n",
              "class12     37866\n",
              "class5      36916\n",
              "class9      36666\n",
              "class1      35987\n",
              "class10     35438\n",
              "class3      32719\n",
              "class4      32301\n",
              "class13     29631\n",
              "class16     28414\n",
              "class7      19286\n",
              "class14     17792\n",
              "class17     14923\n",
              "class15     13967\n",
              "class18     12930\n",
              "class0      11109\n",
              "Name: label, dtype: int64"
            ]
          },
          "metadata": {
            "tags": []
          },
          "execution_count": 24
        }
      ]
    },
    {
      "cell_type": "code",
      "metadata": {
        "colab": {
          "base_uri": "https://localhost:8080/"
        },
        "id": "k70rd3IAFkmi",
        "outputId": "d9e697bd-8a49-4a37-e24b-293dbd498d7b"
      },
      "source": [
        "# Creating a stratified sample of our data grouped by label so as to retain the same proportion of classes\n",
        "# above in our sample\n",
        "\n",
        "# NB: High sampling fraction produce a wider margin of sampling error. For this reason, a 10% fraction of the population\n",
        "# is chosen to reduce sampling error.\n",
        "\n",
        "strat_sample = train.groupby(\"label\", group_keys=False).apply(lambda grouped_subset : grouped_subset.sample(frac=0.10))\n",
        "\n",
        "# Exporting stratified sample to csv\n",
        "strat_sample.to_csv(\"/content/strat_sample.csv\", index = False)\n",
        "\n",
        "strat_sample['label'].value_counts()"
      ],
      "execution_count": null,
      "outputs": [
        {
          "output_type": "execute_result",
          "data": {
            "text/plain": [
              "class19    25627\n",
              "class11     6209\n",
              "class2      5278\n",
              "class6      4664\n",
              "class8      4505\n",
              "class12     3787\n",
              "class5      3692\n",
              "class9      3667\n",
              "class1      3599\n",
              "class10     3544\n",
              "class3      3272\n",
              "class4      3230\n",
              "class13     2963\n",
              "class16     2841\n",
              "class7      1929\n",
              "class14     1779\n",
              "class17     1492\n",
              "class15     1397\n",
              "class18     1293\n",
              "class0      1111\n",
              "Name: label, dtype: int64"
            ]
          },
          "metadata": {
            "tags": []
          },
          "execution_count": 25
        }
      ]
    },
    {
      "cell_type": "code",
      "metadata": {
        "id": "jmoiduhYg6ve"
      },
      "source": [
        "# Creating a function that gets the unique letter in a sequence and its frequency of occurence\r\n",
        "\r\n",
        "from collections import Counter\r\n",
        "\r\n",
        "def get_code_freq(df, data_name):\r\n",
        "  \r\n",
        "  df = df.apply(lambda x: \" \".join(x))\r\n",
        "  \r\n",
        "  codes = []  # initiating a blank list\r\n",
        "  for i in df: # concatenating all codes\r\n",
        "    codes.extend(i)\r\n",
        "\r\n",
        "  codes_dict = Counter(codes)\r\n",
        "  codes_dict.pop(' ') # removing white space\r\n",
        "  \r\n",
        "  print(f'Codes: {data_name}')\r\n",
        "  print(f'Total unique codes: {len(codes_dict.keys())}')\r\n",
        "\r\n",
        "  df = pd.DataFrame({'Code': list(codes_dict.keys()), 'Freq': list(codes_dict.values())})\r\n",
        "  return df.sort_values('Freq', ascending=False).reset_index()[['Code', 'Freq']]"
      ],
      "execution_count": null,
      "outputs": []
    },
    {
      "cell_type": "code",
      "metadata": {
        "id": "CHVo5xeFj1mE",
        "colab": {
          "base_uri": "https://localhost:8080/",
          "height": 803
        },
        "outputId": "270b35e3-f3ff-4261-b262-1c23aefcb79b"
      },
      "source": [
        "# Finding the frequency for each code/letter(amino acid) in each sequence by calling above function. \r\n",
        "# NB:\r\n",
        "# The twenty amino acids (that make up proteins)each have assigned to them ;\r\n",
        "# Three-letters (can be upper or lower case) and one-letter code (upper case.\r\n",
        "\r\n",
        "\r\n",
        "# train code sequence using the stratified sample because the train data is too large and crashes the RAM.\r\n",
        "train_code_freq = get_code_freq(strat_sample['sequence'], 'Train')\r\n",
        "train_code_freq"
      ],
      "execution_count": null,
      "outputs": [
        {
          "output_type": "stream",
          "text": [
            "Codes: Train\n",
            "Total unique codes: 24\n"
          ],
          "name": "stdout"
        },
        {
          "output_type": "execute_result",
          "data": {
            "text/html": [
              "<div>\n",
              "<style scoped>\n",
              "    .dataframe tbody tr th:only-of-type {\n",
              "        vertical-align: middle;\n",
              "    }\n",
              "\n",
              "    .dataframe tbody tr th {\n",
              "        vertical-align: top;\n",
              "    }\n",
              "\n",
              "    .dataframe thead th {\n",
              "        text-align: right;\n",
              "    }\n",
              "</style>\n",
              "<table border=\"1\" class=\"dataframe\">\n",
              "  <thead>\n",
              "    <tr style=\"text-align: right;\">\n",
              "      <th></th>\n",
              "      <th>Code</th>\n",
              "      <th>Freq</th>\n",
              "    </tr>\n",
              "  </thead>\n",
              "  <tbody>\n",
              "    <tr>\n",
              "      <th>0</th>\n",
              "      <td>L</td>\n",
              "      <td>3518178</td>\n",
              "    </tr>\n",
              "    <tr>\n",
              "      <th>1</th>\n",
              "      <td>A</td>\n",
              "      <td>3099795</td>\n",
              "    </tr>\n",
              "    <tr>\n",
              "      <th>2</th>\n",
              "      <td>G</td>\n",
              "      <td>2636759</td>\n",
              "    </tr>\n",
              "    <tr>\n",
              "      <th>3</th>\n",
              "      <td>V</td>\n",
              "      <td>2407333</td>\n",
              "    </tr>\n",
              "    <tr>\n",
              "      <th>4</th>\n",
              "      <td>E</td>\n",
              "      <td>2355664</td>\n",
              "    </tr>\n",
              "    <tr>\n",
              "      <th>5</th>\n",
              "      <td>I</td>\n",
              "      <td>2253459</td>\n",
              "    </tr>\n",
              "    <tr>\n",
              "      <th>6</th>\n",
              "      <td>K</td>\n",
              "      <td>2077056</td>\n",
              "    </tr>\n",
              "    <tr>\n",
              "      <th>7</th>\n",
              "      <td>D</td>\n",
              "      <td>1949990</td>\n",
              "    </tr>\n",
              "    <tr>\n",
              "      <th>8</th>\n",
              "      <td>R</td>\n",
              "      <td>1949621</td>\n",
              "    </tr>\n",
              "    <tr>\n",
              "      <th>9</th>\n",
              "      <td>S</td>\n",
              "      <td>1836687</td>\n",
              "    </tr>\n",
              "    <tr>\n",
              "      <th>10</th>\n",
              "      <td>T</td>\n",
              "      <td>1827005</td>\n",
              "    </tr>\n",
              "    <tr>\n",
              "      <th>11</th>\n",
              "      <td>P</td>\n",
              "      <td>1775163</td>\n",
              "    </tr>\n",
              "    <tr>\n",
              "      <th>12</th>\n",
              "      <td>Q</td>\n",
              "      <td>1408179</td>\n",
              "    </tr>\n",
              "    <tr>\n",
              "      <th>13</th>\n",
              "      <td>F</td>\n",
              "      <td>1276854</td>\n",
              "    </tr>\n",
              "    <tr>\n",
              "      <th>14</th>\n",
              "      <td>N</td>\n",
              "      <td>1257948</td>\n",
              "    </tr>\n",
              "    <tr>\n",
              "      <th>15</th>\n",
              "      <td>Y</td>\n",
              "      <td>974543</td>\n",
              "    </tr>\n",
              "    <tr>\n",
              "      <th>16</th>\n",
              "      <td>H</td>\n",
              "      <td>772130</td>\n",
              "    </tr>\n",
              "    <tr>\n",
              "      <th>17</th>\n",
              "      <td>M</td>\n",
              "      <td>756797</td>\n",
              "    </tr>\n",
              "    <tr>\n",
              "      <th>18</th>\n",
              "      <td>W</td>\n",
              "      <td>507182</td>\n",
              "    </tr>\n",
              "    <tr>\n",
              "      <th>19</th>\n",
              "      <td>C</td>\n",
              "      <td>369470</td>\n",
              "    </tr>\n",
              "    <tr>\n",
              "      <th>20</th>\n",
              "      <td>X</td>\n",
              "      <td>60785</td>\n",
              "    </tr>\n",
              "    <tr>\n",
              "      <th>21</th>\n",
              "      <td>B</td>\n",
              "      <td>374</td>\n",
              "    </tr>\n",
              "    <tr>\n",
              "      <th>22</th>\n",
              "      <td>Z</td>\n",
              "      <td>179</td>\n",
              "    </tr>\n",
              "    <tr>\n",
              "      <th>23</th>\n",
              "      <td>U</td>\n",
              "      <td>17</td>\n",
              "    </tr>\n",
              "  </tbody>\n",
              "</table>\n",
              "</div>"
            ],
            "text/plain": [
              "   Code     Freq\n",
              "0     L  3518178\n",
              "1     A  3099795\n",
              "2     G  2636759\n",
              "3     V  2407333\n",
              "4     E  2355664\n",
              "5     I  2253459\n",
              "6     K  2077056\n",
              "7     D  1949990\n",
              "8     R  1949621\n",
              "9     S  1836687\n",
              "10    T  1827005\n",
              "11    P  1775163\n",
              "12    Q  1408179\n",
              "13    F  1276854\n",
              "14    N  1257948\n",
              "15    Y   974543\n",
              "16    H   772130\n",
              "17    M   756797\n",
              "18    W   507182\n",
              "19    C   369470\n",
              "20    X    60785\n",
              "21    B      374\n",
              "22    Z      179\n",
              "23    U       17"
            ]
          },
          "metadata": {
            "tags": []
          },
          "execution_count": 27
        }
      ]
    },
    {
      "cell_type": "code",
      "metadata": {
        "colab": {
          "base_uri": "https://localhost:8080/",
          "height": 743
        },
        "id": "L3W0CIZFmEwa",
        "outputId": "be2b9081-82a9-4ed4-f312-7d80cd4a883a"
      },
      "source": [
        "# test code sequence\r\n",
        "test_code_freq = get_code_freq(test['sequence'], 'Train')\r\n",
        "test_code_freq"
      ],
      "execution_count": null,
      "outputs": [
        {
          "output_type": "stream",
          "text": [
            "Codes: Train\n",
            "Total unique codes: 22\n"
          ],
          "name": "stdout"
        },
        {
          "output_type": "execute_result",
          "data": {
            "text/html": [
              "<div>\n",
              "<style scoped>\n",
              "    .dataframe tbody tr th:only-of-type {\n",
              "        vertical-align: middle;\n",
              "    }\n",
              "\n",
              "    .dataframe tbody tr th {\n",
              "        vertical-align: top;\n",
              "    }\n",
              "\n",
              "    .dataframe thead th {\n",
              "        text-align: right;\n",
              "    }\n",
              "</style>\n",
              "<table border=\"1\" class=\"dataframe\">\n",
              "  <thead>\n",
              "    <tr style=\"text-align: right;\">\n",
              "      <th></th>\n",
              "      <th>Code</th>\n",
              "      <th>Freq</th>\n",
              "    </tr>\n",
              "  </thead>\n",
              "  <tbody>\n",
              "    <tr>\n",
              "      <th>0</th>\n",
              "      <td>L</td>\n",
              "      <td>10305566</td>\n",
              "    </tr>\n",
              "    <tr>\n",
              "      <th>1</th>\n",
              "      <td>A</td>\n",
              "      <td>9796485</td>\n",
              "    </tr>\n",
              "    <tr>\n",
              "      <th>2</th>\n",
              "      <td>G</td>\n",
              "      <td>7315191</td>\n",
              "    </tr>\n",
              "    <tr>\n",
              "      <th>3</th>\n",
              "      <td>V</td>\n",
              "      <td>6659944</td>\n",
              "    </tr>\n",
              "    <tr>\n",
              "      <th>4</th>\n",
              "      <td>E</td>\n",
              "      <td>5978780</td>\n",
              "    </tr>\n",
              "    <tr>\n",
              "      <th>5</th>\n",
              "      <td>R</td>\n",
              "      <td>5927049</td>\n",
              "    </tr>\n",
              "    <tr>\n",
              "      <th>6</th>\n",
              "      <td>D</td>\n",
              "      <td>5447698</td>\n",
              "    </tr>\n",
              "    <tr>\n",
              "      <th>7</th>\n",
              "      <td>S</td>\n",
              "      <td>5176983</td>\n",
              "    </tr>\n",
              "    <tr>\n",
              "      <th>8</th>\n",
              "      <td>I</td>\n",
              "      <td>5127870</td>\n",
              "    </tr>\n",
              "    <tr>\n",
              "      <th>9</th>\n",
              "      <td>T</td>\n",
              "      <td>4790625</td>\n",
              "    </tr>\n",
              "    <tr>\n",
              "      <th>10</th>\n",
              "      <td>P</td>\n",
              "      <td>4590688</td>\n",
              "    </tr>\n",
              "    <tr>\n",
              "      <th>11</th>\n",
              "      <td>Q</td>\n",
              "      <td>4295253</td>\n",
              "    </tr>\n",
              "    <tr>\n",
              "      <th>12</th>\n",
              "      <td>K</td>\n",
              "      <td>3870179</td>\n",
              "    </tr>\n",
              "    <tr>\n",
              "      <th>13</th>\n",
              "      <td>F</td>\n",
              "      <td>3465332</td>\n",
              "    </tr>\n",
              "    <tr>\n",
              "      <th>14</th>\n",
              "      <td>N</td>\n",
              "      <td>3422029</td>\n",
              "    </tr>\n",
              "    <tr>\n",
              "      <th>15</th>\n",
              "      <td>Y</td>\n",
              "      <td>2579934</td>\n",
              "    </tr>\n",
              "    <tr>\n",
              "      <th>16</th>\n",
              "      <td>M</td>\n",
              "      <td>2406994</td>\n",
              "    </tr>\n",
              "    <tr>\n",
              "      <th>17</th>\n",
              "      <td>H</td>\n",
              "      <td>2401894</td>\n",
              "    </tr>\n",
              "    <tr>\n",
              "      <th>18</th>\n",
              "      <td>W</td>\n",
              "      <td>1362744</td>\n",
              "    </tr>\n",
              "    <tr>\n",
              "      <th>19</th>\n",
              "      <td>C</td>\n",
              "      <td>1113107</td>\n",
              "    </tr>\n",
              "    <tr>\n",
              "      <th>20</th>\n",
              "      <td>X</td>\n",
              "      <td>1717</td>\n",
              "    </tr>\n",
              "    <tr>\n",
              "      <th>21</th>\n",
              "      <td>U</td>\n",
              "      <td>2</td>\n",
              "    </tr>\n",
              "  </tbody>\n",
              "</table>\n",
              "</div>"
            ],
            "text/plain": [
              "   Code      Freq\n",
              "0     L  10305566\n",
              "1     A   9796485\n",
              "2     G   7315191\n",
              "3     V   6659944\n",
              "4     E   5978780\n",
              "5     R   5927049\n",
              "6     D   5447698\n",
              "7     S   5176983\n",
              "8     I   5127870\n",
              "9     T   4790625\n",
              "10    P   4590688\n",
              "11    Q   4295253\n",
              "12    K   3870179\n",
              "13    F   3465332\n",
              "14    N   3422029\n",
              "15    Y   2579934\n",
              "16    M   2406994\n",
              "17    H   2401894\n",
              "18    W   1362744\n",
              "19    C   1113107\n",
              "20    X      1717\n",
              "21    U         2"
            ]
          },
          "metadata": {
            "tags": []
          },
          "execution_count": 28
        }
      ]
    },
    {
      "cell_type": "code",
      "metadata": {
        "id": "BZT9DPHcmZua"
      },
      "source": [
        "# Creating a function that plots a histogram distribution of the codes in train and test above\r\n",
        "\r\n",
        "def plot_code_freq(df, data_name):\r\n",
        "  \r\n",
        "  plt.title(f'Code Frequency: {data_name}')\r\n",
        "  sns.barplot(x='Code', y='Freq', data=df)"
      ],
      "execution_count": null,
      "outputs": []
    },
    {
      "cell_type": "code",
      "metadata": {
        "colab": {
          "base_uri": "https://localhost:8080/",
          "height": 294
        },
        "id": "cRmo5ezTmmjE",
        "outputId": "12531689-b441-468e-e20a-87abe02733b4"
      },
      "source": [
        "# Plotting\r\n",
        "\r\n",
        "plt.subplot(1, 2, 1)\r\n",
        "plot_code_freq(train_code_freq, 'Train')\r\n",
        "\r\n",
        "plt.subplot(1, 2, 2)\r\n",
        "plot_code_freq(test_code_freq, 'Test')\r\n",
        "\r\n",
        "plt.subplots_adjust(right=3.0)\r\n",
        "plt.show()"
      ],
      "execution_count": null,
      "outputs": [
        {
          "output_type": "display_data",
          "data": {
            "image/png": "[encoded data removed]",
            "text/plain": [
              "<Figure size 432x288 with 2 Axes>"
            ]
          },
          "metadata": {
            "tags": [],
            "needs_background": "light"
          }
        }
      ]
    },
    {
      "cell_type": "markdown",
      "metadata": {
        "id": "FrXHhIgNiV2r"
      },
      "source": [
        "More info on the twenty Amino Acids: [Link](http://www.cryst.bbk.ac.uk/education/AminoAcid/the_twenty.html)"
      ]
    },
    {
      "cell_type": "markdown",
      "metadata": {
        "id": "NGfHx-6moA1V"
      },
      "source": [
        "#### Observations\r\n",
        "\r\n",
        "Most common amino acid letter codes in decreasing order are L,A,G,V and E in both train and test data and the least ones are X,B,Z and U. We therefore consider the most common 20 amino acids for encoding our sequence.\r\n",
        "\r\n",
        "However, Test data does not contain B and Z. These are the unseen data points present in Train but absent in Test.\r\n"
      ]
    },
    {
      "cell_type": "markdown",
      "metadata": {
        "id": "vTbdjSrhVIiT"
      },
      "source": [
        "## 6. Text preprocessing of the sequence column by creating a K-Mers function."
      ]
    },
    {
      "cell_type": "code",
      "metadata": {
        "id": "9WLXgjqwwi45"
      },
      "source": [
        "# Creating a function to create all possible overlapping k-mers of specified length from any sequence length\r\n",
        "# by converting the sequence strings into k-mer words of fixed length (3/Triamer word) \r\n",
        "# Length of 3 was found to be optimum manually.\r\n",
        "\r\n",
        "def getKmers(sequence, size=3):\r\n",
        "  return [sequence[x:x+size].lower() for x in range(len(sequence) - size + 1)]"
      ],
      "execution_count": null,
      "outputs": []
    },
    {
      "cell_type": "code",
      "metadata": {
        "id": "uOGNRImjTOV3"
      },
      "source": [
        "# Converting the Train data sequences into short overlapping k-mers of legth 6 into new kmers column and dropping the sequence column\r\n",
        "\r\n",
        "strat_sample['words'] = strat_sample.apply(lambda x: getKmers(x['sequence']), axis=1)\r\n",
        "strat_sample = strat_sample.drop('sequence', axis=1)"
      ],
      "execution_count": null,
      "outputs": []
    },
    {
      "cell_type": "code",
      "metadata": {
        "colab": {
          "base_uri": "https://localhost:8080/",
          "height": 197
        },
        "id": "Z72sMya8TzPS",
        "outputId": "fea62c7f-f2be-4f4c-e89a-0d31c22e51ed"
      },
      "source": [
        "# Previewing the k-mer words\r\n",
        "strat_sample.head(5)"
      ],
      "execution_count": null,
      "outputs": [
        {
          "output_type": "execute_result",
          "data": {
            "text/html": [
              "<div>\n",
              "<style scoped>\n",
              "    .dataframe tbody tr th:only-of-type {\n",
              "        vertical-align: middle;\n",
              "    }\n",
              "\n",
              "    .dataframe tbody tr th {\n",
              "        vertical-align: top;\n",
              "    }\n",
              "\n",
              "    .dataframe thead th {\n",
              "        text-align: right;\n",
              "    }\n",
              "</style>\n",
              "<table border=\"1\" class=\"dataframe\">\n",
              "  <thead>\n",
              "    <tr style=\"text-align: right;\">\n",
              "      <th></th>\n",
              "      <th>sequence_id</th>\n",
              "      <th>creature</th>\n",
              "      <th>label</th>\n",
              "      <th>seq_char_count</th>\n",
              "      <th>words</th>\n",
              "    </tr>\n",
              "  </thead>\n",
              "  <tbody>\n",
              "    <tr>\n",
              "      <th>538964</th>\n",
              "      <td>MMUEQAFQ</td>\n",
              "      <td>creature8</td>\n",
              "      <td>class0</td>\n",
              "      <td>337</td>\n",
              "      <td>[msi, sin, ini, nia, iai, ain, ing, ngf, gfg, ...</td>\n",
              "    </tr>\n",
              "    <tr>\n",
              "      <th>457032</th>\n",
              "      <td>J71S2J3J</td>\n",
              "      <td>creature3</td>\n",
              "      <td>class0</td>\n",
              "      <td>449</td>\n",
              "      <td>[mel, ele, let, eth, thl, hls, lsk, sky, kyf, ...</td>\n",
              "    </tr>\n",
              "    <tr>\n",
              "      <th>388314</th>\n",
              "      <td>GBBBGA5C</td>\n",
              "      <td>creature5</td>\n",
              "      <td>class0</td>\n",
              "      <td>346</td>\n",
              "      <td>[mat, ata, taa, aar, ark, rka, kap, apa, pak, ...</td>\n",
              "    </tr>\n",
              "    <tr>\n",
              "      <th>570238</th>\n",
              "      <td>NXUH26I1</td>\n",
              "      <td>creature0</td>\n",
              "      <td>class0</td>\n",
              "      <td>481</td>\n",
              "      <td>[mti, tiw, iwe, wen, ena, nam, amq, mqy, qyq, ...</td>\n",
              "    </tr>\n",
              "    <tr>\n",
              "      <th>654304</th>\n",
              "      <td>RFUGU8EE</td>\n",
              "      <td>creature8</td>\n",
              "      <td>class0</td>\n",
              "      <td>410</td>\n",
              "      <td>[mel, elq, lql, qlf, lfg, fgi, gin, inh, nhk, ...</td>\n",
              "    </tr>\n",
              "  </tbody>\n",
              "</table>\n",
              "</div>"
            ],
            "text/plain": [
              "       sequence_id  ...                                              words\n",
              "538964    MMUEQAFQ  ...  [msi, sin, ini, nia, iai, ain, ing, ngf, gfg, ...\n",
              "457032    J71S2J3J  ...  [mel, ele, let, eth, thl, hls, lsk, sky, kyf, ...\n",
              "388314    GBBBGA5C  ...  [mat, ata, taa, aar, ark, rka, kap, apa, pak, ...\n",
              "570238    NXUH26I1  ...  [mti, tiw, iwe, wen, ena, nam, amq, mqy, qyq, ...\n",
              "654304    RFUGU8EE  ...  [mel, elq, lql, qlf, lfg, fgi, gin, inh, nhk, ...\n",
              "\n",
              "[5 rows x 5 columns]"
            ]
          },
          "metadata": {
            "tags": []
          },
          "execution_count": 33
        }
      ]
    },
    {
      "cell_type": "code",
      "metadata": {
        "id": "EfrKfwGMVDeZ"
      },
      "source": [
        "# Converting the lists of k-mer texts for each sequence into string sentences of words that the count vectorizer can use.\r\n",
        "\r\n",
        "# Train data\r\n",
        "train_texts = list(strat_sample['words'])\r\n",
        "for item in range(len(train_texts)):\r\n",
        "    train_texts[item] = ' '.join(train_texts[item])"
      ],
      "execution_count": null,
      "outputs": []
    },
    {
      "cell_type": "code",
      "metadata": {
        "id": "DsFVJBrbXOxy"
      },
      "source": [
        "# Creating BAG of WORDS model using CountVectorizer() using NLP\r\n",
        "from sklearn.feature_extraction.text import CountVectorizer\r\n",
        "\r\n",
        "cv = CountVectorizer(ngram_range=(5,5))"
      ],
      "execution_count": null,
      "outputs": []
    },
    {
      "cell_type": "code",
      "metadata": {
        "id": "GpnIeabqgCf0"
      },
      "source": [
        "# Creating Independent and Dependent variables. \r\n",
        "y_data = strat_sample['label']\r\n",
        "X = cv.fit_transform(train_texts)"
      ],
      "execution_count": null,
      "outputs": []
    },
    {
      "cell_type": "code",
      "metadata": {
        "colab": {
          "base_uri": "https://localhost:8080/"
        },
        "id": "P9O5JoeZBjzq",
        "outputId": "116fb1f7-6486-4ad9-8495-fed1d9865248"
      },
      "source": [
        "# Viewing the shape of X, y_data\r\n",
        "\r\n",
        "print(X.shape)\r\n",
        "print(y_data.shape)"
      ],
      "execution_count": null,
      "outputs": [
        {
          "output_type": "stream",
          "text": [
            "(85879, 11508091)\n",
            "(85879,)\n"
          ],
          "name": "stdout"
        }
      ]
    },
    {
      "cell_type": "code",
      "metadata": {
        "id": "gXXuRhk4kr5z"
      },
      "source": [
        "# Splitting the data into the training set and test set\r\n",
        "from sklearn.model_selection import train_test_split\r\n",
        "\r\n",
        "X_train, X_test, y_train, y_test = train_test_split (X, y_data, test_size = 0.20, random_state=32)"
      ],
      "execution_count": null,
      "outputs": []
    },
    {
      "cell_type": "code",
      "metadata": {
        "colab": {
          "base_uri": "https://localhost:8080/"
        },
        "id": "56DQ19kQk7rL",
        "outputId": "0a6370fd-4082-461e-bce1-6fd00eed2b50"
      },
      "source": [
        "### Multinomial Naive Bayes Classifier ###\r\n",
        "from sklearn.naive_bayes import MultinomialNB\r\n",
        "\r\n",
        "classifier = MultinomialNB()\r\n",
        "classifier.fit(X_train, y_train)"
      ],
      "execution_count": null,
      "outputs": [
        {
          "output_type": "execute_result",
          "data": {
            "text/plain": [
              "MultinomialNB(alpha=1.0, class_prior=None, fit_prior=True)"
            ]
          },
          "metadata": {
            "tags": []
          },
          "execution_count": 39
        }
      ]
    },
    {
      "cell_type": "code",
      "metadata": {
        "id": "SBLyjtUYk9-c"
      },
      "source": [
        "y_pred = classifier.predict(X_test)"
      ],
      "execution_count": null,
      "outputs": []
    },
    {
      "cell_type": "code",
      "metadata": {
        "colab": {
          "base_uri": "https://localhost:8080/"
        },
        "id": "n6iDnbTJk-Vd",
        "outputId": "dd743dfd-4a15-4639-865c-fd779fd89526"
      },
      "source": [
        "from sklearn.metrics import accuracy_score, f1_score, precision_score, recall_score\r\n",
        "print(\"Confusion matrix\\n\")\r\n",
        "print(pd.crosstab(pd.Series(y_test, name='Actual'), pd.Series(y_pred, name='Predicted')))\r\n",
        "def get_metrics(y_test, y_pred):\r\n",
        "    accuracy = accuracy_score(y_test, y_pred)\r\n",
        "    precision = precision_score(y_test, y_pred, average='weighted')\r\n",
        "    recall = recall_score(y_test, y_pred, average='weighted')\r\n",
        "    f1 = f1_score(y_test, y_pred, average='weighted')\r\n",
        "    return accuracy, precision, recall, f1\r\n",
        "accuracy, precision, recall, f1 = get_metrics(y_test, y_pred)\r\n",
        "print(\"accuracy = %.3f \\nprecision = %.3f \\nrecall = %.3f \\nf1 = %.3f\" % (accuracy, precision, recall, f1))"
      ],
      "execution_count": null,
      "outputs": [
        {
          "output_type": "stream",
          "text": [
            "Confusion matrix\n",
            "\n",
            "Predicted  class0  class1  class10  class11  ...  class6  class7  class8  class9\n",
            "Actual                                       ...                                \n",
            "class0          0       0        0        0  ...       0       0       0       1\n",
            "class1          0       0        1        0  ...       1       0       1       2\n",
            "class10         0       0        0        0  ...       1       1       0       1\n",
            "class11         0       0        1        2  ...       0       1       1       0\n",
            "class12         2       1        1        1  ...       0       1       1       1\n",
            "class13         1       2        3        0  ...       0       1       0       0\n",
            "class14         0       0        0        0  ...       0       0       0       0\n",
            "class15         0       0        1        2  ...       0       0       0       0\n",
            "class16         0       0        1        1  ...       0       0       0       1\n",
            "class17         0       0        0        0  ...       1       1       1       1\n",
            "class18         0       0        0        0  ...       0       0       0       0\n",
            "class19         1       5        1        5  ...       7       4       6       5\n",
            "class2          0       1        0        2  ...       2       0       0       1\n",
            "class3          0       0        1        1  ...       0       0       0       1\n",
            "class4          0       0        1        0  ...       2       0       1       1\n",
            "class5          0       2        0        0  ...       0       0       0       0\n",
            "class6          0       0        0        1  ...       2       0       3       0\n",
            "class7          0       0        0        0  ...       0       0       0       0\n",
            "class8          1       0        0        0  ...       1       1       2       1\n",
            "class9          1       1        0        1  ...       0       1       1       0\n",
            "\n",
            "[20 rows x 20 columns]\n",
            "accuracy = 0.904 \n",
            "precision = 0.970 \n",
            "recall = 0.904 \n",
            "f1 = 0.928\n"
          ],
          "name": "stdout"
        }
      ]
    },
    {
      "cell_type": "markdown",
      "metadata": {
        "id": "UfS3-1UL76bo"
      },
      "source": [
        "#### Improving Model Performance"
      ]
    },
    {
      "cell_type": "code",
      "metadata": {
        "id": "PM21ZwWahPLe"
      },
      "source": [
        "# Dealing with class imbalance using SMOTE() technikque\r\n",
        "from imblearn.over_sampling import SMOTE\r\n",
        "\r\n",
        "smote = SMOTE() \r\n",
        "X_train_sm, y_train_sm = smote.fit_sample(X_train, y_train)"
      ],
      "execution_count": null,
      "outputs": []
    },
    {
      "cell_type": "code",
      "metadata": {
        "colab": {
          "base_uri": "https://localhost:8080/"
        },
        "id": "vdzKqojliKNy",
        "outputId": "3886ead1-5a68-42e9-8bc3-2a7c752e10bc"
      },
      "source": [
        "# Checking class distribution again\r\n",
        "\r\n",
        "from collections import Counter\r\n",
        "\r\n",
        "print(\"Before SMOTE : \", Counter(y_train))\r\n",
        "print(\"After SMOTE : \", Counter(y_train_sm))"
      ],
      "execution_count": null,
      "outputs": [
        {
          "output_type": "stream",
          "text": [
            "Before SMOTE :  Counter({'class19': 20476, 'class11': 4977, 'class2': 4224, 'class6': 3741, 'class8': 3600, 'class12': 3023, 'class5': 2957, 'class9': 2936, 'class1': 2858, 'class10': 2820, 'class3': 2641, 'class4': 2558, 'class13': 2393, 'class16': 2291, 'class7': 1540, 'class14': 1439, 'class17': 1182, 'class15': 1113, 'class18': 1035, 'class0': 899})\n",
            "After SMOTE :  Counter({'class19': 25627, 'class17': 23064, 'class7': 23064, 'class13': 23064, 'class15': 23064, 'class16': 23064, 'class0': 23064, 'class14': 23064, 'class18': 23064, 'class5': 20502, 'class9': 20502, 'class3': 20502, 'class1': 20502, 'class4': 20502, 'class12': 20502, 'class10': 20502, 'class6': 15376, 'class2': 15376, 'class8': 15376, 'class11': 10250})\n"
          ],
          "name": "stdout"
        }
      ]
    },
    {
      "cell_type": "code",
      "metadata": {
        "id": "-nPuLuWsPa61",
        "colab": {
          "base_uri": "https://localhost:8080/"
        },
        "outputId": "22177bec-c70f-4460-c4a5-a5778ae3f27e"
      },
      "source": [
        "classifier = MultinomialNB(alpha=2.0)\r\n",
        "classifier.fit(X_train_sm, y_train_sm)"
      ],
      "execution_count": null,
      "outputs": [
        {
          "output_type": "execute_result",
          "data": {
            "text/plain": [
              "MultinomialNB(alpha=2.0, class_prior=None, fit_prior=True)"
            ]
          },
          "metadata": {
            "tags": []
          },
          "execution_count": 46
        }
      ]
    },
    {
      "cell_type": "code",
      "metadata": {
        "id": "8tQa0EvkHHlO"
      },
      "source": [
        "y_pred = classifier.predict(X_test)"
      ],
      "execution_count": null,
      "outputs": []
    },
    {
      "cell_type": "code",
      "metadata": {
        "id": "cRgng85MHHvT",
        "colab": {
          "base_uri": "https://localhost:8080/"
        },
        "outputId": "93673bc8-652e-46cd-a8e5-30216ab7ef42"
      },
      "source": [
        "from sklearn.metrics import accuracy_score, f1_score, precision_score, recall_score\r\n",
        "print(\"Confusion matrix\\n\")\r\n",
        "print(pd.crosstab(pd.Series(y_test, name='Actual'), pd.Series(y_pred, name='Predicted')))\r\n",
        "def get_metrics(y_test, y_pred):\r\n",
        "    accuracy = accuracy_score(y_test, y_pred)\r\n",
        "    precision = precision_score(y_test, y_pred, average='weighted')\r\n",
        "    recall = recall_score(y_test, y_pred, average='weighted')\r\n",
        "    f1 = f1_score(y_test, y_pred, average='weighted')\r\n",
        "    return accuracy, precision, recall, f1\r\n",
        "accuracy, precision, recall, f1 = get_metrics(y_test, y_pred)\r\n",
        "print(\"accuracy = %.3f \\nprecision = %.3f \\nrecall = %.3f \\nf1 = %.3f\" % (accuracy, precision, recall, f1))"
      ],
      "execution_count": null,
      "outputs": [
        {
          "output_type": "stream",
          "text": [
            "Confusion matrix\n",
            "\n",
            "Predicted  class0  class1  class10  class11  ...  class6  class7  class8  class9\n",
            "Actual                                       ...                                \n",
            "class0          0       0        0        0  ...       0       0       0       1\n",
            "class1          0       0        1        2  ...       1       0       1       2\n",
            "class10         0       0        0        1  ...       1       1       0       1\n",
            "class11         0       0        1        3  ...       0       1       1       0\n",
            "class12         0       1        1        4  ...       0       1       2       1\n",
            "class13         1       2        3        2  ...       0       1       0       0\n",
            "class14         0       0        0        0  ...       0       0       0       0\n",
            "class15         0       0        1        2  ...       0       0       0       0\n",
            "class16         0       0        1        1  ...       0       0       0       1\n",
            "class17         0       0        0        1  ...       1       1       1       1\n",
            "class18         0       0        0        1  ...       0       0       0       0\n",
            "class19         1       5        1       24  ...       7       3       6       5\n",
            "class2          0       1        0        5  ...       2       0       0       1\n",
            "class3          0       0        1        3  ...       0       0       0       1\n",
            "class4          0       0        1        2  ...       2       0       1       1\n",
            "class5          0       2        0        1  ...       0       0       0       0\n",
            "class6          0       0        0        1  ...       2       0       3       0\n",
            "class7          0       0        0        0  ...       0       0       0       0\n",
            "class8          0       0        0        1  ...       2       1       2       1\n",
            "class9          1       1        0        4  ...       0       1       1       0\n",
            "\n",
            "[20 rows x 20 columns]\n",
            "accuracy = 0.911 \n",
            "precision = 0.954 \n",
            "recall = 0.911 \n",
            "f1 = 0.923\n"
          ],
          "name": "stdout"
        }
      ]
    },
    {
      "cell_type": "markdown",
      "metadata": {
        "id": "0svis5cUT644"
      },
      "source": [
        "The above model performs well on data points seen during training. Lets see how it performs on data points from the Test set which were not present during training. We first make same transormations from train data to test data."
      ]
    },
    {
      "cell_type": "code",
      "metadata": {
        "id": "Mawi9SGQ3UX5"
      },
      "source": [
        "#  Converting the Test data sequences into short overlapping k-mers of legth 6 into new kmers column and dropping the sequence column\r\n",
        "\r\n",
        "test['words'] = test.apply(lambda x: getKmers(x['sequence']), axis=1)\r\n",
        "test = test.drop('sequence', axis=1)"
      ],
      "execution_count": null,
      "outputs": []
    },
    {
      "cell_type": "code",
      "metadata": {
        "id": "xfGu_NEwFDff"
      },
      "source": [
        "# Test data\r\n",
        "test_texts = list(test['words'])\r\n",
        "for item in range(len(test_texts)):\r\n",
        "    test_texts[item] = ' '.join(test_texts[item])"
      ],
      "execution_count": null,
      "outputs": []
    },
    {
      "cell_type": "code",
      "metadata": {
        "id": "xGZr8WqCE_xv"
      },
      "source": [
        "test_data = cv.transform(test_texts)"
      ],
      "execution_count": null,
      "outputs": []
    },
    {
      "cell_type": "code",
      "metadata": {
        "id": "VcdSXpts-a5y",
        "colab": {
          "base_uri": "https://localhost:8080/"
        },
        "outputId": "85c367a2-1940-47eb-d968-79bf42ff0297"
      },
      "source": [
        "# Checking to see the dimensions are the same as X_test\r\n",
        "X_test.shape, test_data.shape"
      ],
      "execution_count": null,
      "outputs": [
        {
          "output_type": "execute_result",
          "data": {
            "text/plain": [
              "((17176, 11508091), (253146, 11508091))"
            ]
          },
          "metadata": {
            "tags": []
          },
          "execution_count": 52
        }
      ]
    },
    {
      "cell_type": "code",
      "metadata": {
        "id": "HgKGO0JGABUZ"
      },
      "source": [
        "# Making predictions on Test data provided\r\n",
        "test_data_pred = classifier.predict(test_data)"
      ],
      "execution_count": null,
      "outputs": []
    },
    {
      "cell_type": "code",
      "metadata": {
        "colab": {
          "base_uri": "https://localhost:8080/",
          "height": 197
        },
        "id": "AKzgT9n7DXbN",
        "outputId": "3e20b663-09a4-4e13-c8a2-859b8190134a"
      },
      "source": [
        "# Saving submision file \r\n",
        "\r\n",
        "ss = pd.DataFrame({\r\n",
        "    'SEQUENCE_ID':test['sequence_id'],\r\n",
        "    'LABEL': test_data_pred\r\n",
        "})\r\n",
        "\r\n",
        "# Exporting output to csv\r\n",
        "ss.to_csv(\"/content/Submission.csv\", index = False)\r\n",
        "ss.head()"
      ],
      "execution_count": null,
      "outputs": [
        {
          "output_type": "execute_result",
          "data": {
            "text/html": [
              "<div>\n",
              "<style scoped>\n",
              "    .dataframe tbody tr th:only-of-type {\n",
              "        vertical-align: middle;\n",
              "    }\n",
              "\n",
              "    .dataframe tbody tr th {\n",
              "        vertical-align: top;\n",
              "    }\n",
              "\n",
              "    .dataframe thead th {\n",
              "        text-align: right;\n",
              "    }\n",
              "</style>\n",
              "<table border=\"1\" class=\"dataframe\">\n",
              "  <thead>\n",
              "    <tr style=\"text-align: right;\">\n",
              "      <th></th>\n",
              "      <th>SEQUENCE_ID</th>\n",
              "      <th>LABEL</th>\n",
              "    </tr>\n",
              "  </thead>\n",
              "  <tbody>\n",
              "    <tr>\n",
              "      <th>0</th>\n",
              "      <td>000LRRAI</td>\n",
              "      <td>class6</td>\n",
              "    </tr>\n",
              "    <tr>\n",
              "      <th>1</th>\n",
              "      <td>000O8L4W</td>\n",
              "      <td>class10</td>\n",
              "    </tr>\n",
              "    <tr>\n",
              "      <th>2</th>\n",
              "      <td>000UKB5J</td>\n",
              "      <td>class10</td>\n",
              "    </tr>\n",
              "    <tr>\n",
              "      <th>3</th>\n",
              "      <td>00111SLH</td>\n",
              "      <td>class2</td>\n",
              "    </tr>\n",
              "    <tr>\n",
              "      <th>4</th>\n",
              "      <td>001ELB0A</td>\n",
              "      <td>class2</td>\n",
              "    </tr>\n",
              "  </tbody>\n",
              "</table>\n",
              "</div>"
            ],
            "text/plain": [
              "  SEQUENCE_ID    LABEL\n",
              "0    000LRRAI   class6\n",
              "1    000O8L4W  class10\n",
              "2    000UKB5J  class10\n",
              "3    00111SLH   class2\n",
              "4    001ELB0A   class2"
            ]
          },
          "metadata": {
            "tags": []
          },
          "execution_count": 54
        }
      ]
    }
  ]
}